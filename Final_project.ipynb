{
 "cells": [
  {
   "cell_type": "code",
   "execution_count": 20,
   "metadata": {},
   "outputs": [],
   "source": [
    "# Package import\n",
    "import numpy as np\n",
    "import pandas as pd\n",
    "import pymysql as mysql\n",
    "import matplotlib.pyplot as plt\n",
    "import csv\n",
    "import requests\n",
    "import sqlite3\n",
    "username= 'root'\n",
    "userpass= '2456'"
   ]
  },
  {
   "cell_type": "code",
   "execution_count": 9,
   "metadata": {},
   "outputs": [],
   "source": [
    "conn = mysql.connect(host='localhost', port=int(3306), user=username, passwd=userpass, db='salesdata')"
   ]
  },
  {
   "cell_type": "code",
   "execution_count": 22,
   "metadata": {},
   "outputs": [
    {
     "ename": "OperationalError",
     "evalue": "table InternationalSaleReport already exists",
     "output_type": "error",
     "traceback": [
      "\u001b[1;31m---------------------------------------------------------------------------\u001b[0m",
      "\u001b[1;31mOperationalError\u001b[0m                          Traceback (most recent call last)",
      "Cell \u001b[1;32mIn[22], line 11\u001b[0m\n\u001b[0;32m      8\u001b[0m cursor \u001b[38;5;241m=\u001b[39m conn\u001b[38;5;241m.\u001b[39mcursor()\n\u001b[0;32m     10\u001b[0m \u001b[38;5;66;03m# Execute the SQL command\u001b[39;00m\n\u001b[1;32m---> 11\u001b[0m \u001b[43mcursor\u001b[49m\u001b[38;5;241;43m.\u001b[39;49m\u001b[43mexecute\u001b[49m\u001b[43m(\u001b[49m\u001b[38;5;124;43m'''\u001b[39;49m\n\u001b[0;32m     12\u001b[0m \u001b[38;5;124;43m    CREATE TABLE InternationalSaleReport (\u001b[39;49m\n\u001b[0;32m     13\u001b[0m \u001b[38;5;124;43m        `index` INT,\u001b[39;49m\n\u001b[0;32m     14\u001b[0m \u001b[38;5;124;43m        DATE DATE,\u001b[39;49m\n\u001b[0;32m     15\u001b[0m \u001b[38;5;124;43m        Months VARCHAR(255),\u001b[39;49m\n\u001b[0;32m     16\u001b[0m \u001b[38;5;124;43m        CUSTOMER VARCHAR(255),\u001b[39;49m\n\u001b[0;32m     17\u001b[0m \u001b[38;5;124;43m        Style VARCHAR(255),\u001b[39;49m\n\u001b[0;32m     18\u001b[0m \u001b[38;5;124;43m        SKU VARCHAR(255),\u001b[39;49m\n\u001b[0;32m     19\u001b[0m \u001b[38;5;124;43m        Size VARCHAR(255),\u001b[39;49m\n\u001b[0;32m     20\u001b[0m \u001b[38;5;124;43m        PCS DECIMAL(10, 2),\u001b[39;49m\n\u001b[0;32m     21\u001b[0m \u001b[38;5;124;43m        RATE DECIMAL(10, 2),\u001b[39;49m\n\u001b[0;32m     22\u001b[0m \u001b[38;5;124;43m        GROSS_AMT DECIMAL(10, 2),\u001b[39;49m\n\u001b[0;32m     23\u001b[0m \u001b[38;5;124;43m        PRIMARY KEY (`index`)\u001b[39;49m\n\u001b[0;32m     24\u001b[0m \u001b[38;5;124;43m    );\u001b[39;49m\n\u001b[0;32m     25\u001b[0m \u001b[38;5;124;43m'''\u001b[39;49m\u001b[43m)\u001b[49m\n\u001b[0;32m     27\u001b[0m \u001b[38;5;66;03m# Commit your changes in the database\u001b[39;00m\n\u001b[0;32m     28\u001b[0m conn\u001b[38;5;241m.\u001b[39mcommit()\n",
      "\u001b[1;31mOperationalError\u001b[0m: table InternationalSaleReport already exists"
     ]
    }
   ],
   "source": [
    "#InternationalSaleReport table creation\n",
    "import sqlite3\n",
    "\n",
    "# Establish a connection to the database\n",
    "conn = sqlite3.connect('salesdata')  # replace 'database_name.db' with your database file\n",
    "\n",
    "# Create a cursor object using the cursor() method\n",
    "cursor = conn.cursor()\n",
    "\n",
    "# Execute the SQL command\n",
    "cursor.execute('''\n",
    "    CREATE TABLE InternationalSaleReport (\n",
    "        `index` INT,\n",
    "        DATE DATE,\n",
    "        Months VARCHAR(255),\n",
    "        CUSTOMER VARCHAR(255),\n",
    "        Style VARCHAR(255),\n",
    "        SKU VARCHAR(255),\n",
    "        Size VARCHAR(255),\n",
    "        PCS DECIMAL(10, 2),\n",
    "        RATE DECIMAL(10, 2),\n",
    "        GROSS_AMT DECIMAL(10, 2),\n",
    "        PRIMARY KEY (`index`)\n",
    "    );\n",
    "''')\n",
    "\n",
    "# Commit your changes in the database\n",
    "conn.commit()\n",
    "\n",
    "# Close the connection\n",
    "conn.close()\n"
   ]
  },
  {
   "cell_type": "code",
   "execution_count": 21,
   "metadata": {},
   "outputs": [
    {
     "ename": "OperationalError",
     "evalue": "table AmazonSaleReport already exists",
     "output_type": "error",
     "traceback": [
      "\u001b[1;31m---------------------------------------------------------------------------\u001b[0m",
      "\u001b[1;31mOperationalError\u001b[0m                          Traceback (most recent call last)",
      "Cell \u001b[1;32mIn[21], line 8\u001b[0m\n\u001b[0;32m      5\u001b[0m cursor \u001b[38;5;241m=\u001b[39m conn\u001b[38;5;241m.\u001b[39mcursor()\n\u001b[0;32m      7\u001b[0m \u001b[38;5;66;03m# Execute the SQL command\u001b[39;00m\n\u001b[1;32m----> 8\u001b[0m \u001b[43mcursor\u001b[49m\u001b[38;5;241;43m.\u001b[39;49m\u001b[43mexecute\u001b[49m\u001b[43m(\u001b[49m\u001b[38;5;124;43m'''\u001b[39;49m\n\u001b[0;32m      9\u001b[0m \u001b[38;5;124;43mCREATE TABLE AmazonSaleReport (\u001b[39;49m\n\u001b[0;32m     10\u001b[0m \u001b[38;5;124;43m    `index` INT,\u001b[39;49m\n\u001b[0;32m     11\u001b[0m \u001b[38;5;124;43m    OrderID VARCHAR(255),\u001b[39;49m\n\u001b[0;32m     12\u001b[0m \u001b[38;5;124;43m    Date DATE,\u001b[39;49m\n\u001b[0;32m     13\u001b[0m \u001b[38;5;124;43m    Status VARCHAR(255),\u001b[39;49m\n\u001b[0;32m     14\u001b[0m \u001b[38;5;124;43m    Fulfilment VARCHAR(255),\u001b[39;49m\n\u001b[0;32m     15\u001b[0m \u001b[38;5;124;43m    SalesChannel VARCHAR(255),\u001b[39;49m\n\u001b[0;32m     16\u001b[0m \u001b[38;5;124;43m    ship_service_level VARCHAR(255),\u001b[39;49m\n\u001b[0;32m     17\u001b[0m \u001b[38;5;124;43m    Style VARCHAR(255),\u001b[39;49m\n\u001b[0;32m     18\u001b[0m \u001b[38;5;124;43m    SKU VARCHAR(255),\u001b[39;49m\n\u001b[0;32m     19\u001b[0m \u001b[38;5;124;43m    Category VARCHAR(255),\u001b[39;49m\n\u001b[0;32m     20\u001b[0m \u001b[38;5;124;43m    currency VARCHAR(255),\u001b[39;49m\n\u001b[0;32m     21\u001b[0m \u001b[38;5;124;43m    Amount DECIMAL(10, 2),\u001b[39;49m\n\u001b[0;32m     22\u001b[0m \u001b[38;5;124;43m    ship_city VARCHAR(255),\u001b[39;49m\n\u001b[0;32m     23\u001b[0m \u001b[38;5;124;43m    ship_state VARCHAR(255),\u001b[39;49m\n\u001b[0;32m     24\u001b[0m \u001b[38;5;124;43m    ship_postal_code VARCHAR(255),\u001b[39;49m\n\u001b[0;32m     25\u001b[0m \u001b[38;5;124;43m    ship_country VARCHAR(255),\u001b[39;49m\n\u001b[0;32m     26\u001b[0m \u001b[38;5;124;43m    promotion_ids TEXT,\u001b[39;49m\n\u001b[0;32m     27\u001b[0m \u001b[38;5;124;43m    B2B BOOLEAN,\u001b[39;49m\n\u001b[0;32m     28\u001b[0m \u001b[38;5;124;43m    fulfilled_by VARCHAR(255),\u001b[39;49m\n\u001b[0;32m     29\u001b[0m \u001b[38;5;124;43m    Unnamed_22 TEXT,\u001b[39;49m\n\u001b[0;32m     30\u001b[0m \u001b[38;5;124;43m    PRIMARY KEY (`index`)\u001b[39;49m\n\u001b[0;32m     31\u001b[0m \u001b[38;5;124;43m);\u001b[39;49m\n\u001b[0;32m     32\u001b[0m \u001b[38;5;124;43m'''\u001b[39;49m\u001b[43m)\u001b[49m\n\u001b[0;32m     34\u001b[0m \u001b[38;5;66;03m# Commit your changes in the database\u001b[39;00m\n\u001b[0;32m     35\u001b[0m conn\u001b[38;5;241m.\u001b[39mcommit()\n",
      "\u001b[1;31mOperationalError\u001b[0m: table AmazonSaleReport already exists"
     ]
    }
   ],
   "source": [
    "# Establish a connection to the database\n",
    "conn = sqlite3.connect('salesdata')  # replace 'database_name.db' with your database file\n",
    "\n",
    "# Create a cursor object using the cursor() method\n",
    "cursor = conn.cursor()\n",
    "\n",
    "# Execute the SQL command\n",
    "cursor.execute('''\n",
    "CREATE TABLE AmazonSaleReport (\n",
    "    `index` INT,\n",
    "    OrderID VARCHAR(255),\n",
    "    Date DATE,\n",
    "    Status VARCHAR(255),\n",
    "    Fulfilment VARCHAR(255),\n",
    "    SalesChannel VARCHAR(255),\n",
    "    ship_service_level VARCHAR(255),\n",
    "    Style VARCHAR(255),\n",
    "    SKU VARCHAR(255),\n",
    "    Category VARCHAR(255),\n",
    "    currency VARCHAR(255),\n",
    "    Amount DECIMAL(10, 2),\n",
    "    ship_city VARCHAR(255),\n",
    "    ship_state VARCHAR(255),\n",
    "    ship_postal_code VARCHAR(255),\n",
    "    ship_country VARCHAR(255),\n",
    "    promotion_ids TEXT,\n",
    "    B2B BOOLEAN,\n",
    "    fulfilled_by VARCHAR(255),\n",
    "    Unnamed_22 TEXT,\n",
    "    PRIMARY KEY (`index`)\n",
    ");\n",
    "''')\n",
    "\n",
    "# Commit your changes in the database\n",
    "conn.commit()\n",
    "\n",
    "# Close the connection\n",
    "conn.close()"
   ]
  },
  {
   "cell_type": "code",
   "execution_count": 26,
   "metadata": {},
   "outputs": [
    {
     "ename": "OperationalError",
     "evalue": "near \"index\": syntax error",
     "output_type": "error",
     "traceback": [
      "\u001b[1;31m---------------------------------------------------------------------------\u001b[0m",
      "\u001b[1;31mOperationalError\u001b[0m                          Traceback (most recent call last)",
      "Cell \u001b[1;32mIn[26], line 18\u001b[0m\n\u001b[0;32m     15\u001b[0m         cursor\u001b[38;5;241m.\u001b[39mexecutemany(sql, rows)\n\u001b[0;32m     17\u001b[0m \u001b[38;5;66;03m# Load data from CSV files into tables\u001b[39;00m\n\u001b[1;32m---> 18\u001b[0m \u001b[43mload_csv_into_table\u001b[49m\u001b[43m(\u001b[49m\u001b[38;5;124;43m'\u001b[39;49m\u001b[38;5;124;43m/Users/17379/Desktop/USD/2024_Spring/507a/Final Project/InternationalSaleReport.csv\u001b[39;49m\u001b[38;5;124;43m'\u001b[39;49m\u001b[43m,\u001b[49m\u001b[43m \u001b[49m\u001b[38;5;124;43m'\u001b[39;49m\u001b[38;5;124;43mInternationalSaleReport\u001b[39;49m\u001b[38;5;124;43m'\u001b[39;49m\u001b[43m,\u001b[49m\u001b[43m \u001b[49m\u001b[43m[\u001b[49m\u001b[38;5;124;43m'\u001b[39;49m\u001b[38;5;124;43mindex\u001b[39;49m\u001b[38;5;124;43m'\u001b[39;49m\u001b[43m,\u001b[49m\u001b[43m \u001b[49m\u001b[38;5;124;43m'\u001b[39;49m\u001b[38;5;124;43mDATE\u001b[39;49m\u001b[38;5;124;43m'\u001b[39;49m\u001b[43m,\u001b[49m\u001b[43m \u001b[49m\u001b[38;5;124;43m'\u001b[39;49m\u001b[38;5;124;43mMonths\u001b[39;49m\u001b[38;5;124;43m'\u001b[39;49m\u001b[43m,\u001b[49m\u001b[43m \u001b[49m\u001b[38;5;124;43m'\u001b[39;49m\u001b[38;5;124;43mCUSTOMER\u001b[39;49m\u001b[38;5;124;43m'\u001b[39;49m\u001b[43m,\u001b[49m\u001b[43m \u001b[49m\u001b[38;5;124;43m'\u001b[39;49m\u001b[38;5;124;43mStyle\u001b[39;49m\u001b[38;5;124;43m'\u001b[39;49m\u001b[43m,\u001b[49m\u001b[43m \u001b[49m\u001b[38;5;124;43m'\u001b[39;49m\u001b[38;5;124;43mSKU\u001b[39;49m\u001b[38;5;124;43m'\u001b[39;49m\u001b[43m,\u001b[49m\u001b[43m \u001b[49m\u001b[38;5;124;43m'\u001b[39;49m\u001b[38;5;124;43mSize\u001b[39;49m\u001b[38;5;124;43m'\u001b[39;49m\u001b[43m,\u001b[49m\u001b[43m \u001b[49m\u001b[38;5;124;43m'\u001b[39;49m\u001b[38;5;124;43mPCS\u001b[39;49m\u001b[38;5;124;43m'\u001b[39;49m\u001b[43m,\u001b[49m\u001b[43m \u001b[49m\u001b[38;5;124;43m'\u001b[39;49m\u001b[38;5;124;43mRATE\u001b[39;49m\u001b[38;5;124;43m'\u001b[39;49m\u001b[43m,\u001b[49m\u001b[43m \u001b[49m\u001b[38;5;124;43m'\u001b[39;49m\u001b[38;5;124;43mGROSS_AMT\u001b[39;49m\u001b[38;5;124;43m'\u001b[39;49m\u001b[43m]\u001b[49m\u001b[43m)\u001b[49m\n\u001b[0;32m     19\u001b[0m load_csv_into_table(\u001b[38;5;124m'\u001b[39m\u001b[38;5;124m/Users/17379/Desktop/USD/2024_Spring/507a/Final Project/AmazonSaleReport.csv\u001b[39m\u001b[38;5;124m'\u001b[39m, \u001b[38;5;124m'\u001b[39m\u001b[38;5;124mAmazonSaleReport\u001b[39m\u001b[38;5;124m'\u001b[39m, [\u001b[38;5;124m'\u001b[39m\u001b[38;5;124mindex\u001b[39m\u001b[38;5;124m'\u001b[39m, \u001b[38;5;124m'\u001b[39m\u001b[38;5;124mOrderID\u001b[39m\u001b[38;5;124m'\u001b[39m, \u001b[38;5;124m'\u001b[39m\u001b[38;5;124mDate\u001b[39m\u001b[38;5;124m'\u001b[39m, \u001b[38;5;124m'\u001b[39m\u001b[38;5;124mStatus\u001b[39m\u001b[38;5;124m'\u001b[39m, \u001b[38;5;124m'\u001b[39m\u001b[38;5;124mFulfilment\u001b[39m\u001b[38;5;124m'\u001b[39m, \u001b[38;5;124m'\u001b[39m\u001b[38;5;124mSalesChannel\u001b[39m\u001b[38;5;124m'\u001b[39m, \u001b[38;5;124m'\u001b[39m\u001b[38;5;124mship_service_level\u001b[39m\u001b[38;5;124m'\u001b[39m, \u001b[38;5;124m'\u001b[39m\u001b[38;5;124mStyle\u001b[39m\u001b[38;5;124m'\u001b[39m, \u001b[38;5;124m'\u001b[39m\u001b[38;5;124mSKU\u001b[39m\u001b[38;5;124m'\u001b[39m, \u001b[38;5;124m'\u001b[39m\u001b[38;5;124mCategory\u001b[39m\u001b[38;5;124m'\u001b[39m, \u001b[38;5;124m'\u001b[39m\u001b[38;5;124mcurrency\u001b[39m\u001b[38;5;124m'\u001b[39m, \u001b[38;5;124m'\u001b[39m\u001b[38;5;124mAmount\u001b[39m\u001b[38;5;124m'\u001b[39m, \u001b[38;5;124m'\u001b[39m\u001b[38;5;124mship_city\u001b[39m\u001b[38;5;124m'\u001b[39m, \u001b[38;5;124m'\u001b[39m\u001b[38;5;124mship_state\u001b[39m\u001b[38;5;124m'\u001b[39m, \u001b[38;5;124m'\u001b[39m\u001b[38;5;124mship_postal_code\u001b[39m\u001b[38;5;124m'\u001b[39m, \u001b[38;5;124m'\u001b[39m\u001b[38;5;124mship_country\u001b[39m\u001b[38;5;124m'\u001b[39m, \u001b[38;5;124m'\u001b[39m\u001b[38;5;124mpromotion_ids\u001b[39m\u001b[38;5;124m'\u001b[39m, \u001b[38;5;124m'\u001b[39m\u001b[38;5;124mB2B\u001b[39m\u001b[38;5;124m'\u001b[39m, \u001b[38;5;124m'\u001b[39m\u001b[38;5;124mfulfilled_by\u001b[39m\u001b[38;5;124m'\u001b[39m, \u001b[38;5;124m'\u001b[39m\u001b[38;5;124mUnnamed_22\u001b[39m\u001b[38;5;124m'\u001b[39m])\n\u001b[0;32m     21\u001b[0m \u001b[38;5;66;03m# Commit changes and close the connection\u001b[39;00m\n",
      "Cell \u001b[1;32mIn[26], line 15\u001b[0m, in \u001b[0;36mload_csv_into_table\u001b[1;34m(csv_file_path, table_name, columns)\u001b[0m\n\u001b[0;32m     13\u001b[0m placeholders \u001b[38;5;241m=\u001b[39m \u001b[38;5;124m'\u001b[39m\u001b[38;5;124m,\u001b[39m\u001b[38;5;124m'\u001b[39m\u001b[38;5;241m.\u001b[39mjoin([\u001b[38;5;124m'\u001b[39m\u001b[38;5;124m?\u001b[39m\u001b[38;5;124m'\u001b[39m] \u001b[38;5;241m*\u001b[39m \u001b[38;5;28mlen\u001b[39m(columns))\n\u001b[0;32m     14\u001b[0m sql \u001b[38;5;241m=\u001b[39m \u001b[38;5;124mf\u001b[39m\u001b[38;5;124m'\u001b[39m\u001b[38;5;124mINSERT INTO \u001b[39m\u001b[38;5;132;01m{\u001b[39;00mtable_name\u001b[38;5;132;01m}\u001b[39;00m\u001b[38;5;124m (\u001b[39m\u001b[38;5;132;01m{\u001b[39;00m\u001b[38;5;124m\"\u001b[39m\u001b[38;5;124m,\u001b[39m\u001b[38;5;124m\"\u001b[39m\u001b[38;5;241m.\u001b[39mjoin(columns)\u001b[38;5;132;01m}\u001b[39;00m\u001b[38;5;124m) VALUES (\u001b[39m\u001b[38;5;132;01m{\u001b[39;00mplaceholders\u001b[38;5;132;01m}\u001b[39;00m\u001b[38;5;124m)\u001b[39m\u001b[38;5;124m'\u001b[39m\n\u001b[1;32m---> 15\u001b[0m \u001b[43mcursor\u001b[49m\u001b[38;5;241;43m.\u001b[39;49m\u001b[43mexecutemany\u001b[49m\u001b[43m(\u001b[49m\u001b[43msql\u001b[49m\u001b[43m,\u001b[49m\u001b[43m \u001b[49m\u001b[43mrows\u001b[49m\u001b[43m)\u001b[49m\n",
      "\u001b[1;31mOperationalError\u001b[0m: near \"index\": syntax error"
     ]
    }
   ],
   "source": [
    "# Establish a connection to the database\n",
    "conn = sqlite3.connect('salesdata.db')  # Corrected the database file extension\n",
    "cursor = conn.cursor()\n",
    "\n",
    "# Assuming you have already created the InternationalSaleReport and AmazonSaleReport tables\n",
    "\n",
    "# Function to load CSV data into a table\n",
    "def load_csv_into_table(csv_file_path, table_name, columns):\n",
    "    with open(csv_file_path, 'r', encoding='utf-8') as file:\n",
    "        reader = csv.reader(file)\n",
    "        next(reader)  # Skip the header row\n",
    "        rows = [row for row in reader]\n",
    "        placeholders = ','.join(['?'] * len(columns))\n",
    "        sql = f'INSERT INTO {table_name} ({\",\".join(columns)}) VALUES ({placeholders})'\n",
    "        cursor.executemany(sql, rows)\n",
    "\n",
    "# Load data from CSV files into tables\n",
    "load_csv_into_table('/Users/17379/Desktop/USD/2024_Spring/507a/Final Project/InternationalSaleReport.csv', 'InternationalSaleReport', ['index', 'DATE', 'Months', 'CUSTOMER', 'Style', 'SKU', 'Size', 'PCS', 'RATE', 'GROSS_AMT'])\n",
    "load_csv_into_table('/Users/17379/Desktop/USD/2024_Spring/507a/Final Project/AmazonSaleReport.csv', 'AmazonSaleReport', ['index', 'OrderID', 'Date', 'Status', 'Fulfilment', 'SalesChannel', 'ship_service_level', 'Style', 'SKU', 'Category', 'currency', 'Amount', 'ship_city', 'ship_state', 'ship_postal_code', 'ship_country', 'promotion_ids', 'B2B', 'fulfilled_by', 'Unnamed_22'])\n",
    "\n",
    "# Commit changes and close the connection\n",
    "conn.commit()\n",
    "conn.close()"
   ]
  },
  {
   "cell_type": "code",
   "execution_count": 30,
   "metadata": {},
   "outputs": [
    {
     "ename": "TypeError",
     "evalue": "Connection() missing required argument 'database' (pos 1)",
     "output_type": "error",
     "traceback": [
      "\u001b[1;31m---------------------------------------------------------------------------\u001b[0m",
      "\u001b[1;31mTypeError\u001b[0m                                 Traceback (most recent call last)",
      "Cell \u001b[1;32mIn[30], line 5\u001b[0m\n\u001b[0;32m      2\u001b[0m \u001b[38;5;28;01mimport\u001b[39;00m \u001b[38;5;21;01msqlite3\u001b[39;00m\n\u001b[0;32m      4\u001b[0m \u001b[38;5;66;03m# Establish a connection to the database\u001b[39;00m\n\u001b[1;32m----> 5\u001b[0m conn \u001b[38;5;241m=\u001b[39m \u001b[43msqlite3\u001b[49m\u001b[38;5;241;43m.\u001b[39;49m\u001b[43mconnect\u001b[49m\u001b[43m(\u001b[49m\u001b[43mhost\u001b[49m\u001b[38;5;241;43m=\u001b[39;49m\u001b[38;5;124;43m'\u001b[39;49m\u001b[38;5;124;43mlocalhost\u001b[39;49m\u001b[38;5;124;43m'\u001b[39;49m\u001b[43m,\u001b[49m\u001b[43m \u001b[49m\u001b[43mport\u001b[49m\u001b[38;5;241;43m=\u001b[39;49m\u001b[38;5;28;43mint\u001b[39;49m\u001b[43m(\u001b[49m\u001b[38;5;241;43m3306\u001b[39;49m\u001b[43m)\u001b[49m\u001b[43m,\u001b[49m\u001b[43m \u001b[49m\u001b[43muser\u001b[49m\u001b[38;5;241;43m=\u001b[39;49m\u001b[43musername\u001b[49m\u001b[43m,\u001b[49m\u001b[43m \u001b[49m\u001b[43mpasswd\u001b[49m\u001b[38;5;241;43m=\u001b[39;49m\u001b[43muserpass\u001b[49m\u001b[43m,\u001b[49m\u001b[43m \u001b[49m\u001b[43mdb\u001b[49m\u001b[38;5;241;43m=\u001b[39;49m\u001b[38;5;124;43m'\u001b[39;49m\u001b[38;5;124;43msalesdata\u001b[39;49m\u001b[38;5;124;43m'\u001b[39;49m\u001b[43m)\u001b[49m\n\u001b[0;32m      6\u001b[0m cursor \u001b[38;5;241m=\u001b[39m conn\u001b[38;5;241m.\u001b[39mcursor()\n\u001b[0;32m      8\u001b[0m \u001b[38;5;28;01mdef\u001b[39;00m \u001b[38;5;21mload_csv_into_table\u001b[39m(csv_file_path, table_name, columns):\n",
      "\u001b[1;31mTypeError\u001b[0m: Connection() missing required argument 'database' (pos 1)"
     ]
    }
   ],
   "source": [
    "import csv\n",
    "import sqlite3\n",
    "\n",
    "# Establish a connection to the database\n",
    "conn = sqlite3.connect(host='localhost', port=int(3306), user=username, passwd=userpass, db='salesdata')\n",
    "cursor = conn.cursor()\n",
    "\n",
    "def load_csv_into_table(csv_file_path, table_name, columns):\n",
    "    with open(csv_file_path, 'r', encoding='utf-8') as file:\n",
    "        reader = csv.reader(file)\n",
    "        next(reader)  # Skip the header row\n",
    "        rows = [row for row in reader]\n",
    "        \n",
    "        # Automatically quote column names\n",
    "        quoted_columns = [f'\"{col}\"' for col in columns]\n",
    "        \n",
    "        placeholders = ','.join(['?'] * len(columns))\n",
    "        sql = f'INSERT INTO {table_name} ({\",\".join(quoted_columns)}) VALUES ({placeholders})'\n",
    "        cursor.executemany(sql, rows)\n",
    "\n",
    "# Example usage\n",
    "load_csv_into_table(\n",
    "    '/Users/17379/Desktop/USD/2024_Spring/507a/Final Project/InternationalSaleReport.csv',\n",
    "    'internationalsalereport',\n",
    "    ['index', 'DATE', 'Months', 'CUSTOMER', 'Style', 'SKU', 'Size', 'PCS', 'RATE', 'GROSS_AMT']\n",
    ")\n",
    "\n",
    "load_csv_into_table(\n",
    "    '/Users/17379/Desktop/USD/2024_Spring/507a/Final Project/AmazonSaleReport.csv',\n",
    "    'amazonsalereport',\n",
    "    ['index', 'OrderID', 'Date', 'Status', 'Fulfilment', 'SalesChannel', 'ship_service_level', 'Style', 'SKU', 'Category', 'currency', 'Amount', 'ship_city', 'ship_state', 'ship_postal_code', 'ship_country', 'promotion_ids', 'B2B', 'fulfilled_by', 'Unnamed_22']\n",
    ")\n",
    "\n",
    "# Commit changes and close the connection\n",
    "conn.commit()\n",
    "conn.close()\n"
   ]
  }
 ],
 "metadata": {
  "kernelspec": {
   "display_name": "Python 3",
   "language": "python",
   "name": "python3"
  },
  "language_info": {
   "codemirror_mode": {
    "name": "ipython",
    "version": 3
   },
   "file_extension": ".py",
   "mimetype": "text/x-python",
   "name": "python",
   "nbconvert_exporter": "python",
   "pygments_lexer": "ipython3",
   "version": "3.11.4"
  }
 },
 "nbformat": 4,
 "nbformat_minor": 2
}
